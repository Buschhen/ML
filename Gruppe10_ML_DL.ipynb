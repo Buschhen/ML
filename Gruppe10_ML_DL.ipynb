{
 "cells": [
  {
   "cell_type": "markdown",
   "metadata": {},
   "source": [
    "# Programmierabgabe - Gruppe 10\n",
    "**Teilnehmer der Gruppe:**\n",
    "- Bergmann, Jona (2950692)\n",
    "- Busch, Henrik (9308097)\n",
    "\n",
    "Für die Lösung dieser Aufgabe wurde ein `Python 3.10.12 Kernel` verwendet. Alle formalen Anforderungen an diese Prüfungsleistung sind in diesem Jupyter-Notebook vorhanden. Als IDE für die Erstellung des Notebooks wurde `VS Code` auf `Windows 10` genutzt.\n",
    "\n",
    "\n",
    "## Klassifikation von Objekten in Bildern mit Deep Learning mit Tensorflow\n",
    "Klassifiziert werden, sollen zehn Objekte des Datensets `CIFAR10`. Die folgenden Objekte sind:\n",
    "\n",
    "1. Flugzeug\n",
    "2. Auto\n",
    "3. Vogel\n",
    "4. Katze\n",
    "5. Reh\n",
    "6. Hund\n",
    "7. Frosch\n",
    "8. Pferd\n",
    "9. Schiff\n",
    "10. LKW\n",
    "\n",
    "### Merkmalsbasierte Klassifikation\n",
    "Die gestellte Aufgabe dieses Teils der Prüfunsgleistung sieht vor, dass `Deep Learning` zur Objekt-Klassifikation genutzt werden soll."
   ]
  },
  {
   "cell_type": "code",
   "execution_count": 46,
   "metadata": {
    "vscode": {
     "languageId": "powershell"
    }
   },
   "outputs": [
    {
     "name": "stdout",
     "output_type": "stream",
     "text": [
      "Requirement already satisfied: numpy in ./.ml/lib/python3.10/site-packages (2.0.2)\n",
      "Requirement already satisfied: matplotlib in ./.ml/lib/python3.10/site-packages (3.9.3)\n",
      "Requirement already satisfied: scikit-learn in ./.ml/lib/python3.10/site-packages (1.5.2)\n",
      "Requirement already satisfied: tensorflow-cpu in ./.ml/lib/python3.10/site-packages (2.18.0)\n",
      "Requirement already satisfied: tf-keras-vis in ./.ml/lib/python3.10/site-packages (0.8.7)\n",
      "Requirement already satisfied: contourpy>=1.0.1 in ./.ml/lib/python3.10/site-packages (from matplotlib) (1.3.1)\n",
      "Requirement already satisfied: cycler>=0.10 in ./.ml/lib/python3.10/site-packages (from matplotlib) (0.12.1)\n",
      "Requirement already satisfied: fonttools>=4.22.0 in ./.ml/lib/python3.10/site-packages (from matplotlib) (4.55.0)\n",
      "Requirement already satisfied: kiwisolver>=1.3.1 in ./.ml/lib/python3.10/site-packages (from matplotlib) (1.4.7)\n",
      "Requirement already satisfied: packaging>=20.0 in ./.ml/lib/python3.10/site-packages (from matplotlib) (24.2)\n",
      "Requirement already satisfied: pillow>=8 in ./.ml/lib/python3.10/site-packages (from matplotlib) (11.0.0)\n",
      "Requirement already satisfied: pyparsing>=2.3.1 in ./.ml/lib/python3.10/site-packages (from matplotlib) (3.2.0)\n",
      "Requirement already satisfied: python-dateutil>=2.7 in ./.ml/lib/python3.10/site-packages (from matplotlib) (2.9.0.post0)\n",
      "Requirement already satisfied: scipy>=1.6.0 in ./.ml/lib/python3.10/site-packages (from scikit-learn) (1.14.1)\n",
      "Requirement already satisfied: joblib>=1.2.0 in ./.ml/lib/python3.10/site-packages (from scikit-learn) (1.4.2)\n",
      "Requirement already satisfied: threadpoolctl>=3.1.0 in ./.ml/lib/python3.10/site-packages (from scikit-learn) (3.5.0)\n",
      "Requirement already satisfied: absl-py>=1.0.0 in ./.ml/lib/python3.10/site-packages (from tensorflow-cpu) (2.1.0)\n",
      "Requirement already satisfied: astunparse>=1.6.0 in ./.ml/lib/python3.10/site-packages (from tensorflow-cpu) (1.6.3)\n",
      "Requirement already satisfied: flatbuffers>=24.3.25 in ./.ml/lib/python3.10/site-packages (from tensorflow-cpu) (24.3.25)\n",
      "Requirement already satisfied: gast!=0.5.0,!=0.5.1,!=0.5.2,>=0.2.1 in ./.ml/lib/python3.10/site-packages (from tensorflow-cpu) (0.6.0)\n",
      "Requirement already satisfied: google-pasta>=0.1.1 in ./.ml/lib/python3.10/site-packages (from tensorflow-cpu) (0.2.0)\n",
      "Requirement already satisfied: libclang>=13.0.0 in ./.ml/lib/python3.10/site-packages (from tensorflow-cpu) (18.1.1)\n",
      "Requirement already satisfied: opt-einsum>=2.3.2 in ./.ml/lib/python3.10/site-packages (from tensorflow-cpu) (3.4.0)\n",
      "Requirement already satisfied: protobuf!=4.21.0,!=4.21.1,!=4.21.2,!=4.21.3,!=4.21.4,!=4.21.5,<6.0.0dev,>=3.20.3 in ./.ml/lib/python3.10/site-packages (from tensorflow-cpu) (5.29.0)\n",
      "Requirement already satisfied: requests<3,>=2.21.0 in ./.ml/lib/python3.10/site-packages (from tensorflow-cpu) (2.32.3)\n",
      "Requirement already satisfied: setuptools in ./.ml/lib/python3.10/site-packages (from tensorflow-cpu) (59.6.0)\n",
      "Requirement already satisfied: six>=1.12.0 in ./.ml/lib/python3.10/site-packages (from tensorflow-cpu) (1.16.0)\n",
      "Requirement already satisfied: termcolor>=1.1.0 in ./.ml/lib/python3.10/site-packages (from tensorflow-cpu) (2.5.0)\n",
      "Requirement already satisfied: typing-extensions>=3.6.6 in ./.ml/lib/python3.10/site-packages (from tensorflow-cpu) (4.12.2)\n",
      "Requirement already satisfied: wrapt>=1.11.0 in ./.ml/lib/python3.10/site-packages (from tensorflow-cpu) (1.17.0)\n",
      "Requirement already satisfied: grpcio<2.0,>=1.24.3 in ./.ml/lib/python3.10/site-packages (from tensorflow-cpu) (1.68.0)\n",
      "Requirement already satisfied: tensorboard<2.19,>=2.18 in ./.ml/lib/python3.10/site-packages (from tensorflow-cpu) (2.18.0)\n",
      "Requirement already satisfied: keras>=3.5.0 in ./.ml/lib/python3.10/site-packages (from tensorflow-cpu) (3.7.0)\n",
      "Requirement already satisfied: h5py>=3.11.0 in ./.ml/lib/python3.10/site-packages (from tensorflow-cpu) (3.12.1)\n",
      "Requirement already satisfied: ml-dtypes<0.5.0,>=0.4.0 in ./.ml/lib/python3.10/site-packages (from tensorflow-cpu) (0.4.1)\n",
      "Requirement already satisfied: tensorflow-io-gcs-filesystem>=0.23.1 in ./.ml/lib/python3.10/site-packages (from tensorflow-cpu) (0.37.1)\n",
      "Requirement already satisfied: deprecated in ./.ml/lib/python3.10/site-packages (from tf-keras-vis) (1.2.15)\n",
      "Requirement already satisfied: imageio in ./.ml/lib/python3.10/site-packages (from tf-keras-vis) (2.36.1)\n",
      "Requirement already satisfied: wheel<1.0,>=0.23.0 in ./.ml/lib/python3.10/site-packages (from astunparse>=1.6.0->tensorflow-cpu) (0.45.1)\n",
      "Requirement already satisfied: rich in ./.ml/lib/python3.10/site-packages (from keras>=3.5.0->tensorflow-cpu) (13.9.4)\n",
      "Requirement already satisfied: namex in ./.ml/lib/python3.10/site-packages (from keras>=3.5.0->tensorflow-cpu) (0.0.8)\n",
      "Requirement already satisfied: optree in ./.ml/lib/python3.10/site-packages (from keras>=3.5.0->tensorflow-cpu) (0.13.1)\n",
      "Requirement already satisfied: charset-normalizer<4,>=2 in ./.ml/lib/python3.10/site-packages (from requests<3,>=2.21.0->tensorflow-cpu) (3.4.0)\n",
      "Requirement already satisfied: idna<4,>=2.5 in ./.ml/lib/python3.10/site-packages (from requests<3,>=2.21.0->tensorflow-cpu) (3.10)\n",
      "Requirement already satisfied: urllib3<3,>=1.21.1 in ./.ml/lib/python3.10/site-packages (from requests<3,>=2.21.0->tensorflow-cpu) (2.2.3)\n",
      "Requirement already satisfied: certifi>=2017.4.17 in ./.ml/lib/python3.10/site-packages (from requests<3,>=2.21.0->tensorflow-cpu) (2024.8.30)\n",
      "Requirement already satisfied: markdown>=2.6.8 in ./.ml/lib/python3.10/site-packages (from tensorboard<2.19,>=2.18->tensorflow-cpu) (3.7)\n",
      "Requirement already satisfied: tensorboard-data-server<0.8.0,>=0.7.0 in ./.ml/lib/python3.10/site-packages (from tensorboard<2.19,>=2.18->tensorflow-cpu) (0.7.2)\n",
      "Requirement already satisfied: werkzeug>=1.0.1 in ./.ml/lib/python3.10/site-packages (from tensorboard<2.19,>=2.18->tensorflow-cpu) (3.1.3)\n",
      "Requirement already satisfied: MarkupSafe>=2.1.1 in ./.ml/lib/python3.10/site-packages (from werkzeug>=1.0.1->tensorboard<2.19,>=2.18->tensorflow-cpu) (3.0.2)\n",
      "Requirement already satisfied: markdown-it-py>=2.2.0 in ./.ml/lib/python3.10/site-packages (from rich->keras>=3.5.0->tensorflow-cpu) (3.0.0)\n",
      "Requirement already satisfied: pygments<3.0.0,>=2.13.0 in ./.ml/lib/python3.10/site-packages (from rich->keras>=3.5.0->tensorflow-cpu) (2.18.0)\n",
      "Requirement already satisfied: mdurl~=0.1 in ./.ml/lib/python3.10/site-packages (from markdown-it-py>=2.2.0->rich->keras>=3.5.0->tensorflow-cpu) (0.1.2)\n",
      "Note: you may need to restart the kernel to use updated packages.\n"
     ]
    }
   ],
   "source": [
    "pip install numpy matplotlib scikit-learn tensorflow-cpu tf-keras-vis"
   ]
  },
  {
   "cell_type": "code",
   "execution_count": 47,
   "metadata": {},
   "outputs": [],
   "source": [
    "# Standard-Bibliotheken\n",
    "import os\n",
    "import pickle\n",
    "\n",
    "# Datenverarbeitung und Visualisierung\n",
    "import numpy as np\n",
    "import matplotlib.pyplot as plt\n",
    "from sklearn.model_selection import train_test_split, KFold\n",
    "\n",
    "# TensorFlow und Keras\n",
    "import tensorflow as tf\n",
    "from tensorflow.keras import layers, models, optimizers\n",
    "from tensorflow.keras.models import Sequential\n",
    "from tensorflow.keras.layers import (\n",
    "    Conv2D, MaxPooling2D, Dropout, Flatten, Dense, \n",
    "    BatchNormalization, GlobalAveragePooling2D\n",
    ")\n",
    "from tensorflow.keras.optimizers import Adam\n",
    "from tensorflow.keras.preprocessing.image import ImageDataGenerator\n",
    "from tensorflow.keras.callbacks import EarlyStopping, ReduceLROnPlateau\n",
    "from tensorflow.keras.applications import InceptionV3\n",
    "from tensorflow.keras.utils import to_categorical\n",
    "\n",
    "\n"
   ]
  },
  {
   "cell_type": "markdown",
   "metadata": {},
   "source": [
    "\n",
    "# Verarbeitung des CIFAR-10-Datensatzes\n",
    "- Laden des CIFAR-10-Datensatzes mit Hilfe von Pickle\n",
    "- Trainings- und Testdaten werden zusammengeführt. Dies muss gemacht werden, da die Daten in Trainings- und Testdaten gespalten sind. Weil aber später ein 75:25 Split verwendet werden soll, werden diese zusammengeführt\n",
    "- Die Wertebereiche der Bilddaten werden von [0, 255] auf [0, 1] reduziert\n"
   ]
  },
  {
   "cell_type": "code",
   "execution_count": 48,
   "metadata": {},
   "outputs": [
    {
     "name": "stdout",
     "output_type": "stream",
     "text": [
      "Gesamtdaten: (60000, 32, 32, 3) (60000,)\n",
      "Nach Normalisierung: 0.0 1.0\n"
     ]
    }
   ],
   "source": [
    "def load_cifar_batch(file):\n",
    "    with open(file, 'rb') as fo:\n",
    "        dict = pickle.load(fo, encoding='bytes')\n",
    "        X = dict[b'data']\n",
    "        Y = dict[b'labels']\n",
    "        X = X.reshape(len(X), 3, 32, 32).transpose(0, 2, 3, 1)\n",
    "        Y = np.array(Y)\n",
    "        return X, Y\n",
    "\n",
    "\n",
    "def load_cifar10_data(data_dir):\n",
    "    train_files = [os.path.join(data_dir, 'data_batch_{}'.format(i)) for i in range(1,6)]\n",
    "    \n",
    "    X_train = []\n",
    "    Y_train = []\n",
    "    \n",
    "    for file in train_files:\n",
    "        X, Y = load_cifar_batch(file)\n",
    "        X_train.append(X)\n",
    "        Y_train.append(Y)\n",
    "    \n",
    "    X_train = np.concatenate(X_train)\n",
    "    Y_train = np.concatenate(Y_train)\n",
    "    \n",
    "    X_test, Y_test = load_cifar_batch(os.path.join(data_dir, 'test_batch'))\n",
    "    \n",
    "    return X_train, Y_train, X_test, Y_test\n",
    "\n",
    "data_dir = './cifar-10-batches-py'\n",
    "\n",
    "X_train, Y_train, X_test, Y_test = load_cifar10_data(data_dir)\n",
    "\n",
    "# Kombinieren der ursprünglichen Trainings- und Testdaten\n",
    "X = np.concatenate((X_train, X_test), axis=0)\n",
    "Y = np.concatenate((Y_train, Y_test), axis=0)\n",
    "\n",
    "print('Gesamtdaten:', X.shape, Y.shape)\n",
    "\n",
    "# Normalisierung der Bilddaten auf den Bereich [0, 1]\n",
    "X = X.astype('float32') / 255.0\n",
    "\n",
    "print('Nach Normalisierung:', X.min(), X.max())"
   ]
  },
  {
   "cell_type": "markdown",
   "metadata": {},
   "source": [
    "# Erklärung der Netzwerkarchitektur für die Klassifikationsaufgabe\n",
    "\n",
    "Die vorgestellte Convolutional Neural Network (CNN)-Architektur wurde speziell für die Klassifikation von CIFAR-10-Daten erstellt. CIFAR-10 besteht aus 32x32 RGB-Bildern, die in 10 Klassen unterteilt sind. Das Modell wurde entworfen, um Merkmale effizient zu extrahieren und die Generalisierungsfähigkeit auf die Testdaten zu maximieren. Nachfolgend wird die Architektur detailliert beschrieben und begründet.\n",
    "\n",
    "---\n",
    "\n",
    "## **Netzwerkarchitektur**\n",
    "\n",
    "### **Convolutional Block 1**\n",
    "- **Ziel**: Erfassen von lokalen Merkmalen wie Kanten und Texturen in den Eingabebildern.\n",
    "- **Details**:\n",
    "  - **2D-Convolutional-Schichten (`Conv2D`)**:\n",
    "    - Verwenden eines 3x3-Filters, um kleine, lokale Merkmale zu extrahieren.\n",
    "    - Aktivierungsfunktion `ReLU`: Führt zur sparsamen Aktivierung und verhindert den Vanishing-Gradient.\n",
    "    - Padding = `'same'`: Bewahrt die räumliche Dimension (32x32 Pixel) der Bilder.\n",
    "  - **MaxPooling-Schicht (`MaxPooling2D`)**:\n",
    "    - Reduziert die räumlichen Dimensionen (von 32x32 auf 16x16), um Rechenaufwand zu minimieren und Translationen zu berücksichtigen.\n",
    "  - **Dropout-Schicht (`Dropout`)**:\n",
    "    - Entfernt zufällig 25% der Neuronen während des Trainings, um Overfitting zu verhindern.\n",
    "\n",
    "---\n",
    "\n",
    "### **Convolutional Block 2**\n",
    "- **Ziel**: Erfassen komplexerer und abstrakterer Merkmale (z. B. Objekte und Strukturen).\n",
    "- **Details**:\n",
    "  - **Erhöhte Anzahl von Filtern (64)**:\n",
    "    - Die Anzahl der Filter wurde verdoppelt, um komplexere Merkmale zu lernen.\n",
    "  - **MaxPooling und Dropout**:\n",
    "    - Ähnliche Funktionen wie im ersten Block, jedoch auf höherem Abstraktionsniveau (reduziert Dimension von 16x16 auf 8x8).\n",
    "\n",
    "---\n",
    "\n",
    "### **Fully Connected Layers**\n",
    "- **Ziel**: Klassifizieren der extrahierten Merkmale in die 10 CIFAR-10-Klassen.\n",
    "- **Details**:\n",
    "  - **Flatten-Schicht**:\n",
    "    - Konvertiert die 8x8x64-Ausgabe der Convolutional-Schichten in einen 1D-Vektor (Features).\n",
    "  - **Dense-Schicht (512 Neuronen)**:\n",
    "    - Vollständig verbundene Schicht mit ReLU-Aktivierung für komplexe Merkmalskombinationen.\n",
    "  - **Dropout-Schicht (50%)**:\n",
    "    - Hoher Dropout-Wert, um Overfitting zu reduzieren.\n",
    "  - **Ausgangsschicht**:\n",
    "    - `Dense(10, activation='softmax')`: Gibt Wahrscheinlichkeiten für jede der 10 Klassen aus.\n"
   ]
  },
  {
   "cell_type": "code",
   "execution_count": 49,
   "metadata": {},
   "outputs": [
    {
     "data": {
      "text/html": [
       "<pre style=\"white-space:pre;overflow-x:auto;line-height:normal;font-family:Menlo,'DejaVu Sans Mono',consolas,'Courier New',monospace\"><span style=\"font-weight: bold\">Model: \"sequential_7\"</span>\n",
       "</pre>\n"
      ],
      "text/plain": [
       "\u001b[1mModel: \"sequential_7\"\u001b[0m\n"
      ]
     },
     "metadata": {},
     "output_type": "display_data"
    },
    {
     "data": {
      "text/html": [
       "<pre style=\"white-space:pre;overflow-x:auto;line-height:normal;font-family:Menlo,'DejaVu Sans Mono',consolas,'Courier New',monospace\">┏━━━━━━━━━━━━━━━━━━━━━━━━━━━━━━━━━┳━━━━━━━━━━━━━━━━━━━━━━━━┳━━━━━━━━━━━━━━━┓\n",
       "┃<span style=\"font-weight: bold\"> Layer (type)                    </span>┃<span style=\"font-weight: bold\"> Output Shape           </span>┃<span style=\"font-weight: bold\">       Param # </span>┃\n",
       "┡━━━━━━━━━━━━━━━━━━━━━━━━━━━━━━━━━╇━━━━━━━━━━━━━━━━━━━━━━━━╇━━━━━━━━━━━━━━━┩\n",
       "│ conv2d_28 (<span style=\"color: #0087ff; text-decoration-color: #0087ff\">Conv2D</span>)              │ (<span style=\"color: #00d7ff; text-decoration-color: #00d7ff\">None</span>, <span style=\"color: #00af00; text-decoration-color: #00af00\">32</span>, <span style=\"color: #00af00; text-decoration-color: #00af00\">32</span>, <span style=\"color: #00af00; text-decoration-color: #00af00\">32</span>)     │           <span style=\"color: #00af00; text-decoration-color: #00af00\">896</span> │\n",
       "├─────────────────────────────────┼────────────────────────┼───────────────┤\n",
       "│ conv2d_29 (<span style=\"color: #0087ff; text-decoration-color: #0087ff\">Conv2D</span>)              │ (<span style=\"color: #00d7ff; text-decoration-color: #00d7ff\">None</span>, <span style=\"color: #00af00; text-decoration-color: #00af00\">32</span>, <span style=\"color: #00af00; text-decoration-color: #00af00\">32</span>, <span style=\"color: #00af00; text-decoration-color: #00af00\">32</span>)     │         <span style=\"color: #00af00; text-decoration-color: #00af00\">9,248</span> │\n",
       "├─────────────────────────────────┼────────────────────────┼───────────────┤\n",
       "│ max_pooling2d_14 (<span style=\"color: #0087ff; text-decoration-color: #0087ff\">MaxPooling2D</span>) │ (<span style=\"color: #00d7ff; text-decoration-color: #00d7ff\">None</span>, <span style=\"color: #00af00; text-decoration-color: #00af00\">16</span>, <span style=\"color: #00af00; text-decoration-color: #00af00\">16</span>, <span style=\"color: #00af00; text-decoration-color: #00af00\">32</span>)     │             <span style=\"color: #00af00; text-decoration-color: #00af00\">0</span> │\n",
       "├─────────────────────────────────┼────────────────────────┼───────────────┤\n",
       "│ dropout_21 (<span style=\"color: #0087ff; text-decoration-color: #0087ff\">Dropout</span>)            │ (<span style=\"color: #00d7ff; text-decoration-color: #00d7ff\">None</span>, <span style=\"color: #00af00; text-decoration-color: #00af00\">16</span>, <span style=\"color: #00af00; text-decoration-color: #00af00\">16</span>, <span style=\"color: #00af00; text-decoration-color: #00af00\">32</span>)     │             <span style=\"color: #00af00; text-decoration-color: #00af00\">0</span> │\n",
       "├─────────────────────────────────┼────────────────────────┼───────────────┤\n",
       "│ conv2d_30 (<span style=\"color: #0087ff; text-decoration-color: #0087ff\">Conv2D</span>)              │ (<span style=\"color: #00d7ff; text-decoration-color: #00d7ff\">None</span>, <span style=\"color: #00af00; text-decoration-color: #00af00\">16</span>, <span style=\"color: #00af00; text-decoration-color: #00af00\">16</span>, <span style=\"color: #00af00; text-decoration-color: #00af00\">64</span>)     │        <span style=\"color: #00af00; text-decoration-color: #00af00\">18,496</span> │\n",
       "├─────────────────────────────────┼────────────────────────┼───────────────┤\n",
       "│ conv2d_31 (<span style=\"color: #0087ff; text-decoration-color: #0087ff\">Conv2D</span>)              │ (<span style=\"color: #00d7ff; text-decoration-color: #00d7ff\">None</span>, <span style=\"color: #00af00; text-decoration-color: #00af00\">16</span>, <span style=\"color: #00af00; text-decoration-color: #00af00\">16</span>, <span style=\"color: #00af00; text-decoration-color: #00af00\">64</span>)     │        <span style=\"color: #00af00; text-decoration-color: #00af00\">36,928</span> │\n",
       "├─────────────────────────────────┼────────────────────────┼───────────────┤\n",
       "│ max_pooling2d_15 (<span style=\"color: #0087ff; text-decoration-color: #0087ff\">MaxPooling2D</span>) │ (<span style=\"color: #00d7ff; text-decoration-color: #00d7ff\">None</span>, <span style=\"color: #00af00; text-decoration-color: #00af00\">8</span>, <span style=\"color: #00af00; text-decoration-color: #00af00\">8</span>, <span style=\"color: #00af00; text-decoration-color: #00af00\">64</span>)       │             <span style=\"color: #00af00; text-decoration-color: #00af00\">0</span> │\n",
       "├─────────────────────────────────┼────────────────────────┼───────────────┤\n",
       "│ dropout_22 (<span style=\"color: #0087ff; text-decoration-color: #0087ff\">Dropout</span>)            │ (<span style=\"color: #00d7ff; text-decoration-color: #00d7ff\">None</span>, <span style=\"color: #00af00; text-decoration-color: #00af00\">8</span>, <span style=\"color: #00af00; text-decoration-color: #00af00\">8</span>, <span style=\"color: #00af00; text-decoration-color: #00af00\">64</span>)       │             <span style=\"color: #00af00; text-decoration-color: #00af00\">0</span> │\n",
       "├─────────────────────────────────┼────────────────────────┼───────────────┤\n",
       "│ flatten_7 (<span style=\"color: #0087ff; text-decoration-color: #0087ff\">Flatten</span>)             │ (<span style=\"color: #00d7ff; text-decoration-color: #00d7ff\">None</span>, <span style=\"color: #00af00; text-decoration-color: #00af00\">4096</span>)           │             <span style=\"color: #00af00; text-decoration-color: #00af00\">0</span> │\n",
       "├─────────────────────────────────┼────────────────────────┼───────────────┤\n",
       "│ dense_14 (<span style=\"color: #0087ff; text-decoration-color: #0087ff\">Dense</span>)                │ (<span style=\"color: #00d7ff; text-decoration-color: #00d7ff\">None</span>, <span style=\"color: #00af00; text-decoration-color: #00af00\">128</span>)            │       <span style=\"color: #00af00; text-decoration-color: #00af00\">524,416</span> │\n",
       "├─────────────────────────────────┼────────────────────────┼───────────────┤\n",
       "│ dropout_23 (<span style=\"color: #0087ff; text-decoration-color: #0087ff\">Dropout</span>)            │ (<span style=\"color: #00d7ff; text-decoration-color: #00d7ff\">None</span>, <span style=\"color: #00af00; text-decoration-color: #00af00\">128</span>)            │             <span style=\"color: #00af00; text-decoration-color: #00af00\">0</span> │\n",
       "├─────────────────────────────────┼────────────────────────┼───────────────┤\n",
       "│ dense_15 (<span style=\"color: #0087ff; text-decoration-color: #0087ff\">Dense</span>)                │ (<span style=\"color: #00d7ff; text-decoration-color: #00d7ff\">None</span>, <span style=\"color: #00af00; text-decoration-color: #00af00\">10</span>)             │         <span style=\"color: #00af00; text-decoration-color: #00af00\">1,290</span> │\n",
       "└─────────────────────────────────┴────────────────────────┴───────────────┘\n",
       "</pre>\n"
      ],
      "text/plain": [
       "┏━━━━━━━━━━━━━━━━━━━━━━━━━━━━━━━━━┳━━━━━━━━━━━━━━━━━━━━━━━━┳━━━━━━━━━━━━━━━┓\n",
       "┃\u001b[1m \u001b[0m\u001b[1mLayer (type)                   \u001b[0m\u001b[1m \u001b[0m┃\u001b[1m \u001b[0m\u001b[1mOutput Shape          \u001b[0m\u001b[1m \u001b[0m┃\u001b[1m \u001b[0m\u001b[1m      Param #\u001b[0m\u001b[1m \u001b[0m┃\n",
       "┡━━━━━━━━━━━━━━━━━━━━━━━━━━━━━━━━━╇━━━━━━━━━━━━━━━━━━━━━━━━╇━━━━━━━━━━━━━━━┩\n",
       "│ conv2d_28 (\u001b[38;5;33mConv2D\u001b[0m)              │ (\u001b[38;5;45mNone\u001b[0m, \u001b[38;5;34m32\u001b[0m, \u001b[38;5;34m32\u001b[0m, \u001b[38;5;34m32\u001b[0m)     │           \u001b[38;5;34m896\u001b[0m │\n",
       "├─────────────────────────────────┼────────────────────────┼───────────────┤\n",
       "│ conv2d_29 (\u001b[38;5;33mConv2D\u001b[0m)              │ (\u001b[38;5;45mNone\u001b[0m, \u001b[38;5;34m32\u001b[0m, \u001b[38;5;34m32\u001b[0m, \u001b[38;5;34m32\u001b[0m)     │         \u001b[38;5;34m9,248\u001b[0m │\n",
       "├─────────────────────────────────┼────────────────────────┼───────────────┤\n",
       "│ max_pooling2d_14 (\u001b[38;5;33mMaxPooling2D\u001b[0m) │ (\u001b[38;5;45mNone\u001b[0m, \u001b[38;5;34m16\u001b[0m, \u001b[38;5;34m16\u001b[0m, \u001b[38;5;34m32\u001b[0m)     │             \u001b[38;5;34m0\u001b[0m │\n",
       "├─────────────────────────────────┼────────────────────────┼───────────────┤\n",
       "│ dropout_21 (\u001b[38;5;33mDropout\u001b[0m)            │ (\u001b[38;5;45mNone\u001b[0m, \u001b[38;5;34m16\u001b[0m, \u001b[38;5;34m16\u001b[0m, \u001b[38;5;34m32\u001b[0m)     │             \u001b[38;5;34m0\u001b[0m │\n",
       "├─────────────────────────────────┼────────────────────────┼───────────────┤\n",
       "│ conv2d_30 (\u001b[38;5;33mConv2D\u001b[0m)              │ (\u001b[38;5;45mNone\u001b[0m, \u001b[38;5;34m16\u001b[0m, \u001b[38;5;34m16\u001b[0m, \u001b[38;5;34m64\u001b[0m)     │        \u001b[38;5;34m18,496\u001b[0m │\n",
       "├─────────────────────────────────┼────────────────────────┼───────────────┤\n",
       "│ conv2d_31 (\u001b[38;5;33mConv2D\u001b[0m)              │ (\u001b[38;5;45mNone\u001b[0m, \u001b[38;5;34m16\u001b[0m, \u001b[38;5;34m16\u001b[0m, \u001b[38;5;34m64\u001b[0m)     │        \u001b[38;5;34m36,928\u001b[0m │\n",
       "├─────────────────────────────────┼────────────────────────┼───────────────┤\n",
       "│ max_pooling2d_15 (\u001b[38;5;33mMaxPooling2D\u001b[0m) │ (\u001b[38;5;45mNone\u001b[0m, \u001b[38;5;34m8\u001b[0m, \u001b[38;5;34m8\u001b[0m, \u001b[38;5;34m64\u001b[0m)       │             \u001b[38;5;34m0\u001b[0m │\n",
       "├─────────────────────────────────┼────────────────────────┼───────────────┤\n",
       "│ dropout_22 (\u001b[38;5;33mDropout\u001b[0m)            │ (\u001b[38;5;45mNone\u001b[0m, \u001b[38;5;34m8\u001b[0m, \u001b[38;5;34m8\u001b[0m, \u001b[38;5;34m64\u001b[0m)       │             \u001b[38;5;34m0\u001b[0m │\n",
       "├─────────────────────────────────┼────────────────────────┼───────────────┤\n",
       "│ flatten_7 (\u001b[38;5;33mFlatten\u001b[0m)             │ (\u001b[38;5;45mNone\u001b[0m, \u001b[38;5;34m4096\u001b[0m)           │             \u001b[38;5;34m0\u001b[0m │\n",
       "├─────────────────────────────────┼────────────────────────┼───────────────┤\n",
       "│ dense_14 (\u001b[38;5;33mDense\u001b[0m)                │ (\u001b[38;5;45mNone\u001b[0m, \u001b[38;5;34m128\u001b[0m)            │       \u001b[38;5;34m524,416\u001b[0m │\n",
       "├─────────────────────────────────┼────────────────────────┼───────────────┤\n",
       "│ dropout_23 (\u001b[38;5;33mDropout\u001b[0m)            │ (\u001b[38;5;45mNone\u001b[0m, \u001b[38;5;34m128\u001b[0m)            │             \u001b[38;5;34m0\u001b[0m │\n",
       "├─────────────────────────────────┼────────────────────────┼───────────────┤\n",
       "│ dense_15 (\u001b[38;5;33mDense\u001b[0m)                │ (\u001b[38;5;45mNone\u001b[0m, \u001b[38;5;34m10\u001b[0m)             │         \u001b[38;5;34m1,290\u001b[0m │\n",
       "└─────────────────────────────────┴────────────────────────┴───────────────┘\n"
      ]
     },
     "metadata": {},
     "output_type": "display_data"
    },
    {
     "data": {
      "text/html": [
       "<pre style=\"white-space:pre;overflow-x:auto;line-height:normal;font-family:Menlo,'DejaVu Sans Mono',consolas,'Courier New',monospace\"><span style=\"font-weight: bold\"> Total params: </span><span style=\"color: #00af00; text-decoration-color: #00af00\">591,274</span> (2.26 MB)\n",
       "</pre>\n"
      ],
      "text/plain": [
       "\u001b[1m Total params: \u001b[0m\u001b[38;5;34m591,274\u001b[0m (2.26 MB)\n"
      ]
     },
     "metadata": {},
     "output_type": "display_data"
    },
    {
     "data": {
      "text/html": [
       "<pre style=\"white-space:pre;overflow-x:auto;line-height:normal;font-family:Menlo,'DejaVu Sans Mono',consolas,'Courier New',monospace\"><span style=\"font-weight: bold\"> Trainable params: </span><span style=\"color: #00af00; text-decoration-color: #00af00\">591,274</span> (2.26 MB)\n",
       "</pre>\n"
      ],
      "text/plain": [
       "\u001b[1m Trainable params: \u001b[0m\u001b[38;5;34m591,274\u001b[0m (2.26 MB)\n"
      ]
     },
     "metadata": {},
     "output_type": "display_data"
    },
    {
     "data": {
      "text/html": [
       "<pre style=\"white-space:pre;overflow-x:auto;line-height:normal;font-family:Menlo,'DejaVu Sans Mono',consolas,'Courier New',monospace\"><span style=\"font-weight: bold\"> Non-trainable params: </span><span style=\"color: #00af00; text-decoration-color: #00af00\">0</span> (0.00 B)\n",
       "</pre>\n"
      ],
      "text/plain": [
       "\u001b[1m Non-trainable params: \u001b[0m\u001b[38;5;34m0\u001b[0m (0.00 B)\n"
      ]
     },
     "metadata": {},
     "output_type": "display_data"
    }
   ],
   "source": [
    "def create_cnn_model():\n",
    "    model = Sequential()\n",
    "\n",
    "    # Convolutional Block 1\n",
    "    model.add(Conv2D(32, (3, 3), padding='same', activation='relu', input_shape=(32, 32, 3)))\n",
    "    #model.add(BatchNormalization())\n",
    "    model.add(Conv2D(32, (3, 3), padding='same', activation='relu'))\n",
    "    model.add(MaxPooling2D(pool_size=(2, 2)))\n",
    "    model.add(Dropout(0.25))\n",
    "\n",
    "    # Convolutional Block 2\n",
    "    model.add(Conv2D(64, (3, 3), padding='same', activation='relu'))\n",
    "    #model.add(BatchNormalization())\n",
    "    model.add(Conv2D(64, (3, 3), padding='same', activation='relu'))\n",
    "    model.add(MaxPooling2D(pool_size=(2, 2)))\n",
    "    model.add(Dropout(0.25))\n",
    "\n",
    "    # Fully Connected Layers\n",
    "    model.add(Flatten())\n",
    "    model.add(Dense(128, activation='relu'))\n",
    "    model.add(Dropout(0.5))\n",
    "    model.add(Dense(10, activation='softmax'))\n",
    "\n",
    "    return model\n",
    "\n",
    "\n",
    "model = create_cnn_model()\n",
    "\n",
    "model.summary()"
   ]
  },
  {
   "cell_type": "markdown",
   "metadata": {},
   "source": [
    "# Auswahl der Loss-Funktion und des Optimizers\n",
    "\n",
    "## 1. **Loss-Funktion**: `sparse_categorical_crossentropy`\n",
    "\n",
    "Die **Loss-Funktion** misst die Differenz zwischen den vorhergesagten Wahrscheinlichkeitsverteilungen des Modells und den tatsächlichen Klassenlabels. In diesem Fall wird `sparse_categorical_crossentropy` verwendet.\n",
    "\n",
    "### **Warum wurde diese Loss-Funktion ausgewählt?**\n",
    "\n",
    "1. **Mehrklassenklassifikation**:\n",
    "   - Das CIFAR-10-Datenset enthält 10 Klassen, weshalb eine Loss-Funktion für Mehrklassenprobleme erforderlich ist.\n",
    "   - `sparse_categorical_crossentropy` eignet sich besonders, wenn die Klassenlabels als Ganzzahlen (anstelle von One-Hot-Vektoren) vorliegen.\n",
    "\n",
    "2. **Kombination mit `softmax`**:\n",
    "   - Die Loss-Funktion arbeitet nahtlos mit der `softmax`-Aktivierungsfunktion in der Ausgangsschicht zusammen, um Wahrscheinlichkeiten für jede Klasse zu berechnen.\n",
    "\n",
    "---\n",
    "\n",
    "## 2. **Optimizer**: `Adam`\n",
    "\n",
    "Der **Optimizer** aktualisiert die Modellgewichte, um den Verlust zu minimieren. Hier wurde der Adam-Optimizer ausgewählt.\n",
    "\n",
    "### **Warum wurde Adam ausgewählt?**\n",
    "\n",
    "1. **Adaptive Lernraten**:\n",
    "   - Adam passt die Lernrate für jede Gewichtung dynamisch an, basierend auf den ersten und zweiten Momenten der Gradienten.\n",
    "   - Dies führt zu einer schnellen und stabilen Konvergenz.\n",
    "\n",
    "2. **Robustheit**:\n",
    "   - Adam ist robust gegenüber verrauschten Gradienten und eignet sich gut für verschiedene Architekturen und Datensätze.\n",
    "\n",
    "3. **Standardparameter**:\n",
    "   - Die Standardwerte (z. B. `learning_rate=0.001`) sind in vielen Szenarien optimal, wodurch das Hyperparameter-Tuning reduziert wird.\n",
    "\n",
    "4. **Effizienz**:\n",
    "   - Adam kombiniert die Vorteile von **Momentum** und **RMSprop**, um sowohl eine schnelle Konvergenz als auch eine bessere Generalisierung zu erreichen.\n",
    "\n",
    "---\n",
    "\n",
    "## 3. **Callbacks**: Verbesserung des Trainingsprozesses\n",
    "\n",
    "### **1. EarlyStopping**\n",
    "  - Beendet das Training frühzeitig, wenn sich die Validierungsgenauigkeit `val_accuracy` über 10 Epochen nicht verbessert.\n",
    "  - Verhindert Overfitting und spart Trainingszeit.\n",
    "- **Option**: `restore_best_weights=True` stellt sicher, dass die besten Gewichte am Ende des Trainings verwendet werden.\n",
    "\n",
    "### **2. ReduceLROnPlateau**\n",
    "  - Reduziert die Lernrate um einen Faktor von 0.5, wenn sich der Validierungsverlust `val_loss` über 5 Epochen nicht verbessert.\n",
    "  - Hilft dem Modell, feine Optimierungen vorzunehmen, wenn es sich der Konvergenz nähert.\n",
    "- **Option**: `min_lr=1e-6` stellt sicher, dass die Lernrate nicht unter einen sinnvollen Wert fällt.\n"
   ]
  },
  {
   "cell_type": "code",
   "execution_count": 50,
   "metadata": {},
   "outputs": [],
   "source": [
    "model.compile(\n",
    "loss='sparse_categorical_crossentropy',\n",
    "optimizer=Adam(learning_rate=0.001),\n",
    "metrics=['accuracy']\n",
    ")\n",
    "\n",
    "\n",
    "# Definieren der Callbacks\n",
    "early_stop = EarlyStopping(monitor='val_accuracy', patience=10, restore_best_weights=True)\n",
    "reduce_lr = ReduceLROnPlateau(monitor='val_loss', factor=0.5, patience=5, min_lr=1e-6)"
   ]
  },
  {
   "cell_type": "markdown",
   "metadata": {},
   "source": [
    "# K-Fold Cross-Validation\n",
    "**Anzahl der Folds:** `k = 4`:\n",
    "\n",
    "Die Anzahl der Folds wird auf 4 gesetzt, um ein 75:25-Verhältnis zwischen Trainings- und Validierungsdaten in jeder Iteration zu erreichen. Dies gewährleistet, dass jede Datenprobe einmal im Validierungsset verwendet wird und die Modellleistung über verschiedene Falten hinweg bewertet wird.\n",
    "\n",
    "**Initialisierung** von `KFold`\n",
    "Der `KFold`-Mechanismus mit `shuffle=True` und einem festen `random_state` (`42`) wird verwendet, um die Daten vor der Aufteilung zu mischen und reproduzierbare Ergebnisse zu erzielen. \n",
    "\n",
    "**Modellkompilierung**\n",
    "Das Modell wird mit folgendem Ansatz kompiliert, dabei handelt es sich um die selben Daten wie oben:\n",
    "- **Loss-Funktion**: `sparse_categorical_crossentropy` wird gewählt, da die CIFAR-10 Labels integer-codiert sind.\n",
    "- **Optimizer**: `Adam` mit einer Lernrate von `0.001` sorgt für effiziente Optimierung.\n",
    "- **Metrik**: `accuracy` wird verwendet, um die Klassifikationsleistung zu bewerten.\n",
    "\n",
    "**Datenaugmentation mit `ImageDataGenerator`**\n",
    "Um die Generalisierungsfähigkeit des Modells zu verbessern, wird Datenaugmentation angewendet:\n",
    "- **Rotation**: Bis zu 15 Grad.\n",
    "- **Translation**: Horizontale und vertikale Verschiebung um 10%.\n",
    "- **Flippen**: Horizontales Spiegeln.\n",
    "\n",
    "Diese Methoden erweitern die Variabilität der Trainingsdaten und reduzieren Overfitting.\n",
    "\n",
    "**Trainingsparameter**\n",
    "- Der Trainingsdatensatz wird in Batches von 64 Beispielen aufgeteilt\n",
    "- Die Daten werden in Echtzeit augmentiert\n",
    "- Das Training erfolgt über maximal 100 Epochen, wobei Validierungsdaten zur Bewertung verwendet werden\n",
    "- Callbacks (Early Stopping und Lernratenreduzierung) verbessern die Effizienz und Qualität des Trainings\n",
    "- Fortschrittsanzeigen geben während des Trainings einen detaillierten Überblick\n",
    "\n",
    "Mit diesen Parametern wurden die besten Ergebnisse erziehlt.\n"
   ]
  },
  {
   "cell_type": "code",
   "execution_count": 51,
   "metadata": {},
   "outputs": [
    {
     "name": "stdout",
     "output_type": "stream",
     "text": [
      "\n",
      "### Falt 1 ###\n",
      "\u001b[1m704/704\u001b[0m \u001b[32m━━━━━━━━━━━━━━━━━━━━\u001b[0m\u001b[37m\u001b[0m \u001b[1m49s\u001b[0m 67ms/step - accuracy: 0.2599 - loss: 1.9917 - val_accuracy: 0.4619 - val_loss: 1.4349 - learning_rate: 0.0010\n",
      "Falt 1 - Verlust: 1.4349 - Genauigkeit: 46.19%\n",
      "\n",
      "### Falt 2 ###\n",
      "\u001b[1m704/704\u001b[0m \u001b[32m━━━━━━━━━━━━━━━━━━━━\u001b[0m\u001b[37m\u001b[0m \u001b[1m47s\u001b[0m 67ms/step - accuracy: 0.4373 - loss: 1.5364 - val_accuracy: 0.5572 - val_loss: 1.2156 - learning_rate: 0.0010\n",
      "Falt 2 - Verlust: 1.2156 - Genauigkeit: 55.72%\n",
      "\n",
      "### Falt 3 ###\n",
      "\u001b[1m704/704\u001b[0m \u001b[32m━━━━━━━━━━━━━━━━━━━━\u001b[0m\u001b[37m\u001b[0m \u001b[1m46s\u001b[0m 65ms/step - accuracy: 0.5017 - loss: 1.3837 - val_accuracy: 0.6223 - val_loss: 1.0429 - learning_rate: 0.0010\n",
      "Falt 3 - Verlust: 1.0429 - Genauigkeit: 62.23%\n",
      "\n",
      "### Falt 4 ###\n",
      "\u001b[1m704/704\u001b[0m \u001b[32m━━━━━━━━━━━━━━━━━━━━\u001b[0m\u001b[37m\u001b[0m \u001b[1m46s\u001b[0m 64ms/step - accuracy: 0.5450 - loss: 1.2788 - val_accuracy: 0.6360 - val_loss: 1.0219 - learning_rate: 0.0010\n",
      "Falt 4 - Verlust: 1.0219 - Genauigkeit: 63.60%\n"
     ]
    }
   ],
   "source": [
    "kf = KFold(n_splits=4, shuffle=True, random_state=42)\n",
    "\n",
    "\n",
    "fold_no = 1\n",
    "acc_per_fold = []\n",
    "loss_per_fold = []\n",
    "\n",
    "\n",
    "history_per_fold = []\n",
    "\n",
    "for train_index, val_index in kf.split(X):\n",
    "    print(f'\\n### Falt {fold_no} ###')\n",
    "    \n",
    "\n",
    "    X_train_fold, X_val_fold = X[train_index], X[val_index]\n",
    "    Y_train_fold, Y_val_fold = Y[train_index], Y[val_index]\n",
    "    \n",
    "\n",
    "    datagen = ImageDataGenerator(\n",
    "    rotation_range=15,\n",
    "    width_shift_range=0.1,\n",
    "    height_shift_range=0.1,\n",
    "    horizontal_flip=True,\n",
    "    )\n",
    "    \n",
    "    datagen.fit(X_train_fold)\n",
    "\n",
    "    # Training des Modells\n",
    "    history = model.fit(\n",
    "        datagen.flow(X_train_fold, Y_train_fold, batch_size=64),\n",
    "        epochs=1,\n",
    "        batch_size=64,\n",
    "        validation_data=(X_val_fold, Y_val_fold),\n",
    "        callbacks=[early_stop, reduce_lr],\n",
    "        verbose=1\n",
    "    )\n",
    "    \n",
    "    # Speichern der Trainingshistorie\n",
    "    history_per_fold.append(history)\n",
    "    \n",
    "    # Evaluieren des Modells auf dem Validationsset\n",
    "    scores = model.evaluate(X_val_fold, Y_val_fold, verbose=0)\n",
    "    print(f'Falt {fold_no} - Verlust: {scores[0]:.4f} - Genauigkeit: {scores[1]*100:.2f}%')\n",
    "    \n",
    "    acc_per_fold.append(scores[1] * 100)\n",
    "    loss_per_fold.append(scores[0])\n",
    "    \n",
    "    fold_no += 1\n",
    "\n"
   ]
  },
  {
   "cell_type": "code",
   "execution_count": 52,
   "metadata": {},
   "outputs": [
    {
     "data": {
      "image/png": "[encoded data removed]",
      "text/plain": [
       "<Figure size 1200x500 with 2 Axes>"
      ]
     },
     "metadata": {},
     "output_type": "display_data"
    },
    {
     "data": {
      "image/png": "[encoded data removed]",
      "text/plain": [
       "<Figure size 1200x500 with 2 Axes>"
      ]
     },
     "metadata": {},
     "output_type": "display_data"
    },
    {
     "data": {
      "image/png": "[encoded data removed]",
      "text/plain": [
       "<Figure size 1200x500 with 2 Axes>"
      ]
     },
     "metadata": {},
     "output_type": "display_data"
    },
    {
     "data": {
      "image/png": "[encoded data removed]",
      "text/plain": [
       "<Figure size 1200x500 with 2 Axes>"
      ]
     },
     "metadata": {},
     "output_type": "display_data"
    }
   ],
   "source": [
    "for i, history in enumerate(history_per_fold, start=1):\n",
    "    plt.figure(figsize=(12, 5))\n",
    "    \n",
    "    # Genauigkeit\n",
    "    plt.subplot(1, 2, 1)\n",
    "    plt.plot(history.history['accuracy'], label='Training')\n",
    "    plt.plot(history.history['val_accuracy'], label='Validation')\n",
    "    plt.title(f'Genauigkeit - Falte {i}')\n",
    "    plt.xlabel('Epoche')\n",
    "    plt.ylabel('Genauigkeit')\n",
    "    plt.legend()\n",
    "    \n",
    "    # Verlust\n",
    "    plt.subplot(1, 2, 2)\n",
    "    plt.plot(history.history['loss'], label='Training')\n",
    "    plt.plot(history.history['val_loss'], label='Validation')\n",
    "    plt.title(f'Verlust - Falte {i}')\n",
    "    plt.xlabel('Epoche')\n",
    "    plt.ylabel('Verlust')\n",
    "    plt.legend()\n",
    "    \n",
    "    plt.show()\n",
    "\n",
    "\n"
   ]
  },
  {
   "cell_type": "markdown",
   "metadata": {},
   "source": [
    "## **Transfer-Learning-Codes mit InceptionV3 mit Imagenet Gewichtung**\n",
    "\n",
    "\n",
    "**Laden und Vorverarbeiten der Daten**\n",
    "\n",
    "Der **CIFAR-10-Datensatz** wird geladen und für die Kompatibilität mit InceptionV3 angepasst:\n",
    "   - Die Originalbilder (32x32) wurden auf 75x75 Pixel vergrößert.\n",
    "   - Die Bildwerte wurden auf den Bereich [0, 1] skaliert.\n",
    "   - Die Labels wurden in One-Hot-Form umgewandelt, um mit der Softmax-Ausgangsschicht kompatibel zu sein.\n",
    "   - 75% der Trainingsdaten wurden für das Training und 20% für die Validierung verwendet.\n"
   ]
  },
  {
   "cell_type": "code",
   "execution_count": 53,
   "metadata": {},
   "outputs": [],
   "source": [
    "# Load CIFAR-10 dataset\n",
    "(X_train, Y_train), (X_test, Y_test) = tf.keras.datasets.cifar10.load_data()\n",
    "\n",
    "# Resize images to 75x75\n",
    "X_train = tf.image.resize(X_train, (75, 75)).numpy()\n",
    "X_test = tf.image.resize(X_test, (75, 75)).numpy()\n",
    "\n",
    "# Normalize images to [0, 1]\n",
    "X_train = X_train / 255.0\n",
    "X_test = X_test / 255.0\n",
    "\n",
    "# Convert labels to one-hot encoding\n",
    "Y_train = to_categorical(Y_train, 10)\n",
    "Y_test = to_categorical(Y_test, 10)\n",
    "\n",
    "# Split training data for validation\n",
    "X_train, X_val, Y_train, Y_val = train_test_split(X_train, Y_train, test_size=0.25, random_state=42)\n"
   ]
  },
  {
   "cell_type": "markdown",
   "metadata": {},
   "source": [
    "**Laden des vortrainierten InceptionV3-Modells**\n",
    "Dieser Code implementiert ein Modell zur Klassifikation des CIFAR-10-Datensatzes mithilfe des vortrainierten InceptionV3-Modells.\n",
    "\n",
    "1. **Basismodell: InceptionV3**\n",
    "\n",
    "- **InceptionV3**: Vortrainiertes Modell auf ImageNet zur Merkmalextraktion.\n",
    "- Parameter:\n",
    "  - `weights='imagenet'`: Vortrainierte Gewichte.\n",
    "  - `include_top=False`: Entfernt Klassifikationsschichten.\n",
    "  - `input_shape=(75, 75, 3)`: Eingabebilder in 75x75 RGB.\n",
    "\n",
    "- Gefrorene Gewichte bewahren vortrainierte Merkmale und sparen Rechenaufwand.\n",
    "\n",
    "2. **Erweiterung des Modells**\n",
    "Das Modell wird um folgende Schichten ergänzt:\n",
    "\n",
    "- **GlobalAveragePooling2D**: Verdichtet die Merkmalskarten.\n",
    "- **Dense(1024)**: Vollverbundene Schicht mit ReLU.\n",
    "- **Dropout(0.25)**: Verhindert Überanpassung.\n",
    "- **Dense(10)**: Softmax-Ausgabe für 10 Klassen von CIFAR-10.\n",
    "\n",
    "3. **Kompilierung des Modells**\n",
    "Beim Kompilieren werden auch die selben parameter verwendet wie vom eigenem Modell\n",
    "- **Optimizer**: Adam mit adaptiver Lernrate.\n",
    "- **Loss**: `categorical_crossentropy` für mehrklassige Probleme.\n",
    "- **Metrics**: Genauigkeit zur Leistungsbewertung.\n",
    "\n"
   ]
  },
  {
   "cell_type": "code",
   "execution_count": 54,
   "metadata": {},
   "outputs": [
    {
     "data": {
      "text/html": [
       "<pre style=\"white-space:pre;overflow-x:auto;line-height:normal;font-family:Menlo,'DejaVu Sans Mono',consolas,'Courier New',monospace\"><span style=\"font-weight: bold\">Model: \"sequential_8\"</span>\n",
       "</pre>\n"
      ],
      "text/plain": [
       "\u001b[1mModel: \"sequential_8\"\u001b[0m\n"
      ]
     },
     "metadata": {},
     "output_type": "display_data"
    },
    {
     "data": {
      "text/html": [
       "<pre style=\"white-space:pre;overflow-x:auto;line-height:normal;font-family:Menlo,'DejaVu Sans Mono',consolas,'Courier New',monospace\">┏━━━━━━━━━━━━━━━━━━━━━━━━━━━━━━━━━┳━━━━━━━━━━━━━━━━━━━━━━━━┳━━━━━━━━━━━━━━━┓\n",
       "┃<span style=\"font-weight: bold\"> Layer (type)                    </span>┃<span style=\"font-weight: bold\"> Output Shape           </span>┃<span style=\"font-weight: bold\">       Param # </span>┃\n",
       "┡━━━━━━━━━━━━━━━━━━━━━━━━━━━━━━━━━╇━━━━━━━━━━━━━━━━━━━━━━━━╇━━━━━━━━━━━━━━━┩\n",
       "│ inception_v3 (<span style=\"color: #0087ff; text-decoration-color: #0087ff\">Functional</span>)       │ (<span style=\"color: #00d7ff; text-decoration-color: #00d7ff\">None</span>, <span style=\"color: #00af00; text-decoration-color: #00af00\">1</span>, <span style=\"color: #00af00; text-decoration-color: #00af00\">1</span>, <span style=\"color: #00af00; text-decoration-color: #00af00\">2048</span>)     │    <span style=\"color: #00af00; text-decoration-color: #00af00\">21,802,784</span> │\n",
       "├─────────────────────────────────┼────────────────────────┼───────────────┤\n",
       "│ global_average_pooling2d        │ (<span style=\"color: #00d7ff; text-decoration-color: #00d7ff\">None</span>, <span style=\"color: #00af00; text-decoration-color: #00af00\">2048</span>)           │             <span style=\"color: #00af00; text-decoration-color: #00af00\">0</span> │\n",
       "│ (<span style=\"color: #0087ff; text-decoration-color: #0087ff\">GlobalAveragePooling2D</span>)        │                        │               │\n",
       "├─────────────────────────────────┼────────────────────────┼───────────────┤\n",
       "│ dense_16 (<span style=\"color: #0087ff; text-decoration-color: #0087ff\">Dense</span>)                │ (<span style=\"color: #00d7ff; text-decoration-color: #00d7ff\">None</span>, <span style=\"color: #00af00; text-decoration-color: #00af00\">1024</span>)           │     <span style=\"color: #00af00; text-decoration-color: #00af00\">2,098,176</span> │\n",
       "├─────────────────────────────────┼────────────────────────┼───────────────┤\n",
       "│ dropout_24 (<span style=\"color: #0087ff; text-decoration-color: #0087ff\">Dropout</span>)            │ (<span style=\"color: #00d7ff; text-decoration-color: #00d7ff\">None</span>, <span style=\"color: #00af00; text-decoration-color: #00af00\">1024</span>)           │             <span style=\"color: #00af00; text-decoration-color: #00af00\">0</span> │\n",
       "├─────────────────────────────────┼────────────────────────┼───────────────┤\n",
       "│ dense_17 (<span style=\"color: #0087ff; text-decoration-color: #0087ff\">Dense</span>)                │ (<span style=\"color: #00d7ff; text-decoration-color: #00d7ff\">None</span>, <span style=\"color: #00af00; text-decoration-color: #00af00\">10</span>)             │        <span style=\"color: #00af00; text-decoration-color: #00af00\">10,250</span> │\n",
       "└─────────────────────────────────┴────────────────────────┴───────────────┘\n",
       "</pre>\n"
      ],
      "text/plain": [
       "┏━━━━━━━━━━━━━━━━━━━━━━━━━━━━━━━━━┳━━━━━━━━━━━━━━━━━━━━━━━━┳━━━━━━━━━━━━━━━┓\n",
       "┃\u001b[1m \u001b[0m\u001b[1mLayer (type)                   \u001b[0m\u001b[1m \u001b[0m┃\u001b[1m \u001b[0m\u001b[1mOutput Shape          \u001b[0m\u001b[1m \u001b[0m┃\u001b[1m \u001b[0m\u001b[1m      Param #\u001b[0m\u001b[1m \u001b[0m┃\n",
       "┡━━━━━━━━━━━━━━━━━━━━━━━━━━━━━━━━━╇━━━━━━━━━━━━━━━━━━━━━━━━╇━━━━━━━━━━━━━━━┩\n",
       "│ inception_v3 (\u001b[38;5;33mFunctional\u001b[0m)       │ (\u001b[38;5;45mNone\u001b[0m, \u001b[38;5;34m1\u001b[0m, \u001b[38;5;34m1\u001b[0m, \u001b[38;5;34m2048\u001b[0m)     │    \u001b[38;5;34m21,802,784\u001b[0m │\n",
       "├─────────────────────────────────┼────────────────────────┼───────────────┤\n",
       "│ global_average_pooling2d        │ (\u001b[38;5;45mNone\u001b[0m, \u001b[38;5;34m2048\u001b[0m)           │             \u001b[38;5;34m0\u001b[0m │\n",
       "│ (\u001b[38;5;33mGlobalAveragePooling2D\u001b[0m)        │                        │               │\n",
       "├─────────────────────────────────┼────────────────────────┼───────────────┤\n",
       "│ dense_16 (\u001b[38;5;33mDense\u001b[0m)                │ (\u001b[38;5;45mNone\u001b[0m, \u001b[38;5;34m1024\u001b[0m)           │     \u001b[38;5;34m2,098,176\u001b[0m │\n",
       "├─────────────────────────────────┼────────────────────────┼───────────────┤\n",
       "│ dropout_24 (\u001b[38;5;33mDropout\u001b[0m)            │ (\u001b[38;5;45mNone\u001b[0m, \u001b[38;5;34m1024\u001b[0m)           │             \u001b[38;5;34m0\u001b[0m │\n",
       "├─────────────────────────────────┼────────────────────────┼───────────────┤\n",
       "│ dense_17 (\u001b[38;5;33mDense\u001b[0m)                │ (\u001b[38;5;45mNone\u001b[0m, \u001b[38;5;34m10\u001b[0m)             │        \u001b[38;5;34m10,250\u001b[0m │\n",
       "└─────────────────────────────────┴────────────────────────┴───────────────┘\n"
      ]
     },
     "metadata": {},
     "output_type": "display_data"
    },
    {
     "data": {
      "text/html": [
       "<pre style=\"white-space:pre;overflow-x:auto;line-height:normal;font-family:Menlo,'DejaVu Sans Mono',consolas,'Courier New',monospace\"><span style=\"font-weight: bold\"> Total params: </span><span style=\"color: #00af00; text-decoration-color: #00af00\">23,911,210</span> (91.21 MB)\n",
       "</pre>\n"
      ],
      "text/plain": [
       "\u001b[1m Total params: \u001b[0m\u001b[38;5;34m23,911,210\u001b[0m (91.21 MB)\n"
      ]
     },
     "metadata": {},
     "output_type": "display_data"
    },
    {
     "data": {
      "text/html": [
       "<pre style=\"white-space:pre;overflow-x:auto;line-height:normal;font-family:Menlo,'DejaVu Sans Mono',consolas,'Courier New',monospace\"><span style=\"font-weight: bold\"> Trainable params: </span><span style=\"color: #00af00; text-decoration-color: #00af00\">2,108,426</span> (8.04 MB)\n",
       "</pre>\n"
      ],
      "text/plain": [
       "\u001b[1m Trainable params: \u001b[0m\u001b[38;5;34m2,108,426\u001b[0m (8.04 MB)\n"
      ]
     },
     "metadata": {},
     "output_type": "display_data"
    },
    {
     "data": {
      "text/html": [
       "<pre style=\"white-space:pre;overflow-x:auto;line-height:normal;font-family:Menlo,'DejaVu Sans Mono',consolas,'Courier New',monospace\"><span style=\"font-weight: bold\"> Non-trainable params: </span><span style=\"color: #00af00; text-decoration-color: #00af00\">21,802,784</span> (83.17 MB)\n",
       "</pre>\n"
      ],
      "text/plain": [
       "\u001b[1m Non-trainable params: \u001b[0m\u001b[38;5;34m21,802,784\u001b[0m (83.17 MB)\n"
      ]
     },
     "metadata": {},
     "output_type": "display_data"
    }
   ],
   "source": [
    "# Load InceptionV3 base model\n",
    "base_model = InceptionV3(weights='imagenet', include_top=False, input_shape=(75, 75, 3))\n",
    "base_model.trainable = False  # Freeze the base model\n",
    "\n",
    "model = Sequential([\n",
    "    base_model,\n",
    "    GlobalAveragePooling2D(),\n",
    "    Dense(1024, activation='relu'),\n",
    "    Dropout(0.5),\n",
    "    Dense(10, activation='softmax')\n",
    "])\n",
    "\n",
    "# Compile the model\n",
    "model.compile(\n",
    "    optimizer=Adam(learning_rate=0.001),\n",
    "    loss='categorical_crossentropy',\n",
    "    metrics=['accuracy']\n",
    ")\n",
    "\n",
    "# Display the model summary\n",
    "model.summary()\n"
   ]
  },
  {
   "cell_type": "markdown",
   "metadata": {},
   "source": [
    "Es wurden die selben Callbacks verwendet, die auch für das eigene Modell verwendet werden.\n",
    "Auch die Parameter sind unverändert.\n",
    "\n",
    "**Gegenüberstellung vom eigenen Modell und inspectV3**\n",
    "Eigentlich sollte das InceptionV3 besser sein. Da das Trainieren mit dem Model lange dauert, können wir leider nicht herausfinden, warum es nicht besser ist.\n",
    "- **Transfer Learning** mit InceptionV3 liefert bessere Ergebnisse als ein von Grund auf trainiertes Modell.\n",
    "- **Vorteile**:\n",
    "  - Schnellere Konvergenz dank vortrainierter Gewichte.\n",
    "  - Höhere Genauigkeit durch die Nutzung von ImageNet-Merkmalen.\n",
    "- **Nachteile**:\n",
    "  - Höhere Speicher- und Rechenanforderungen."
   ]
  },
  {
   "cell_type": "code",
   "execution_count": null,
   "metadata": {},
   "outputs": [
    {
     "name": "stdout",
     "output_type": "stream",
     "text": [
      "Epoch 1/20\n",
      "\u001b[1m586/586\u001b[0m \u001b[32m━━━━━━━━━━━━━━━━━━━━\u001b[0m\u001b[37m\u001b[0m \u001b[1m125s\u001b[0m 203ms/step - accuracy: 0.4695 - loss: 1.5701 - val_accuracy: 0.6010 - val_loss: 1.1442 - learning_rate: 0.0010\n",
      "Epoch 2/20\n",
      "\u001b[1m586/586\u001b[0m \u001b[32m━━━━━━━━━━━━━━━━━━━━\u001b[0m\u001b[37m\u001b[0m \u001b[1m111s\u001b[0m 189ms/step - accuracy: 0.6159 - loss: 1.0938 - val_accuracy: 0.6149 - val_loss: 1.1248 - learning_rate: 0.0010\n",
      "Epoch 3/20\n",
      "\u001b[1m586/586\u001b[0m \u001b[32m━━━━━━━━━━━━━━━━━━━━\u001b[0m\u001b[37m\u001b[0m \u001b[1m113s\u001b[0m 192ms/step - accuracy: 0.6540 - loss: 0.9845 - val_accuracy: 0.6335 - val_loss: 1.0626 - learning_rate: 0.0010\n",
      "Epoch 4/20\n",
      "\u001b[1m586/586\u001b[0m \u001b[32m━━━━━━━━━━━━━━━━━━━━\u001b[0m\u001b[37m\u001b[0m \u001b[1m112s\u001b[0m 191ms/step - accuracy: 0.6832 - loss: 0.8952 - val_accuracy: 0.6354 - val_loss: 1.0608 - learning_rate: 0.0010\n",
      "Epoch 5/20\n",
      "\u001b[1m586/586\u001b[0m \u001b[32m━━━━━━━━━━━━━━━━━━━━\u001b[0m\u001b[37m\u001b[0m \u001b[1m115s\u001b[0m 197ms/step - accuracy: 0.7151 - loss: 0.8139 - val_accuracy: 0.6363 - val_loss: 1.0670 - learning_rate: 0.0010\n",
      "Epoch 6/20\n",
      "\u001b[1m586/586\u001b[0m \u001b[32m━━━━━━━━━━━━━━━━━━━━\u001b[0m\u001b[37m\u001b[0m \u001b[1m114s\u001b[0m 195ms/step - accuracy: 0.7463 - loss: 0.7207 - val_accuracy: 0.6349 - val_loss: 1.0877 - learning_rate: 0.0010\n",
      "Epoch 7/20\n",
      "\u001b[1m586/586\u001b[0m \u001b[32m━━━━━━━━━━━━━━━━━━━━\u001b[0m\u001b[37m\u001b[0m \u001b[1m112s\u001b[0m 191ms/step - accuracy: 0.7735 - loss: 0.6508 - val_accuracy: 0.6419 - val_loss: 1.0927 - learning_rate: 0.0010\n",
      "Epoch 8/20\n",
      "\u001b[1m586/586\u001b[0m \u001b[32m━━━━━━━━━━━━━━━━━━━━\u001b[0m\u001b[37m\u001b[0m \u001b[1m115s\u001b[0m 196ms/step - accuracy: 0.7992 - loss: 0.5697 - val_accuracy: 0.6409 - val_loss: 1.1307 - learning_rate: 0.0010\n",
      "Epoch 9/20\n",
      "\u001b[1m586/586\u001b[0m \u001b[32m━━━━━━━━━━━━━━━━━━━━\u001b[0m\u001b[37m\u001b[0m \u001b[1m115s\u001b[0m 196ms/step - accuracy: 0.8214 - loss: 0.5090 - val_accuracy: 0.6392 - val_loss: 1.1695 - learning_rate: 0.0010\n",
      "Epoch 10/20\n",
      "\u001b[1m586/586\u001b[0m \u001b[32m━━━━━━━━━━━━━━━━━━━━\u001b[0m\u001b[37m\u001b[0m \u001b[1m115s\u001b[0m 197ms/step - accuracy: 0.8660 - loss: 0.3953 - val_accuracy: 0.6462 - val_loss: 1.1873 - learning_rate: 5.0000e-04\n",
      "Epoch 11/20\n",
      "\u001b[1m586/586\u001b[0m \u001b[32m━━━━━━━━━━━━━━━━━━━━\u001b[0m\u001b[37m\u001b[0m \u001b[1m114s\u001b[0m 195ms/step - accuracy: 0.8944 - loss: 0.3131 - val_accuracy: 0.6462 - val_loss: 1.2067 - learning_rate: 5.0000e-04\n",
      "Epoch 12/20\n",
      "\u001b[1m586/586\u001b[0m \u001b[32m━━━━━━━━━━━━━━━━━━━━\u001b[0m\u001b[37m\u001b[0m \u001b[1m114s\u001b[0m 194ms/step - accuracy: 0.9083 - loss: 0.2820 - val_accuracy: 0.6469 - val_loss: 1.2625 - learning_rate: 5.0000e-04\n",
      "Epoch 13/20\n",
      "\u001b[1m586/586\u001b[0m \u001b[32m━━━━━━━━━━━━━━━━━━━━\u001b[0m\u001b[37m\u001b[0m \u001b[1m114s\u001b[0m 194ms/step - accuracy: 0.9187 - loss: 0.2452 - val_accuracy: 0.6510 - val_loss: 1.2710 - learning_rate: 5.0000e-04\n",
      "Epoch 14/20\n",
      "\u001b[1m586/586\u001b[0m \u001b[32m━━━━━━━━━━━━━━━━━━━━\u001b[0m\u001b[37m\u001b[0m \u001b[1m115s\u001b[0m 197ms/step - accuracy: 0.9288 - loss: 0.2170 - val_accuracy: 0.6497 - val_loss: 1.3017 - learning_rate: 5.0000e-04\n",
      "Epoch 15/20\n",
      "\u001b[1m586/586\u001b[0m \u001b[32m━━━━━━━━━━━━━━━━━━━━\u001b[0m\u001b[37m\u001b[0m \u001b[1m115s\u001b[0m 196ms/step - accuracy: 0.9450 - loss: 0.1812 - val_accuracy: 0.6530 - val_loss: 1.3321 - learning_rate: 2.5000e-04\n",
      "Epoch 16/20\n",
      "\u001b[1m586/586\u001b[0m \u001b[32m━━━━━━━━━━━━━━━━━━━━\u001b[0m\u001b[37m\u001b[0m \u001b[1m115s\u001b[0m 196ms/step - accuracy: 0.9522 - loss: 0.1564 - val_accuracy: 0.6521 - val_loss: 1.3602 - learning_rate: 2.5000e-04\n",
      "Epoch 17/20\n",
      "\u001b[1m586/586\u001b[0m \u001b[32m━━━━━━━━━━━━━━━━━━━━\u001b[0m\u001b[37m\u001b[0m \u001b[1m114s\u001b[0m 194ms/step - accuracy: 0.9554 - loss: 0.1473 - val_accuracy: 0.6518 - val_loss: 1.3811 - learning_rate: 2.5000e-04\n",
      "Epoch 18/20\n",
      "\u001b[1m586/586\u001b[0m \u001b[32m━━━━━━━━━━━━━━━━━━━━\u001b[0m\u001b[37m\u001b[0m \u001b[1m110s\u001b[0m 188ms/step - accuracy: 0.9591 - loss: 0.1327 - val_accuracy: 0.6489 - val_loss: 1.3981 - learning_rate: 2.5000e-04\n",
      "Epoch 19/20\n",
      "\u001b[1m 55/586\u001b[0m \u001b[32m━\u001b[0m\u001b[37m━━━━━━━━━━━━━━━━━━━\u001b[0m \u001b[1m1:16\u001b[0m 144ms/step - accuracy: 0.9625 - loss: 0.1233"
     ]
    }
   ],
   "source": [
    "early_stopping = EarlyStopping(monitor='val_accuracy', patience=10, restore_best_weights=True)\n",
    "reduce_lr = ReduceLROnPlateau(monitor='val_loss', factor=0.5, patience=5, min_lr=1e-6)\n",
    "\n",
    "history = model.fit(\n",
    "    X_train, Y_train,\n",
    "    validation_data=(X_val, Y_val),\n",
    "    epochs=20,\n",
    "    batch_size=64,\n",
    "    callbacks=[early_stopping, reduce_lr],\n",
    "    verbose=1\n",
    ")\n"
   ]
  },
  {
   "cell_type": "markdown",
   "metadata": {},
   "source": [
    "**Feintuning des Modells**\n",
    "\n",
    "**1. Freigabe von Schichten**\n",
    "- Nur die letzten 50 Schichten werden trainierbar gemacht.\n",
    "- Frühere Schichten bleiben eingefroren, um vortrainierte Merkmale zu bewahren.\n",
    "\n",
    "**2. Neukompilierung**\n",
    "- Lernrate wird reduziert, um vortrainierte Gewichte minimal zu verändern."
   ]
  },
  {
   "cell_type": "code",
   "execution_count": null,
   "metadata": {},
   "outputs": [
    {
     "name": "stdout",
     "output_type": "stream",
     "text": [
      "Epoch 1/20\n",
      "\u001b[1m625/625\u001b[0m \u001b[32m━━━━━━━━━━━━━━━━━━━━\u001b[0m\u001b[37m\u001b[0m \u001b[1m176s\u001b[0m 261ms/step - accuracy: 0.5464 - loss: 2.1833 - val_accuracy: 0.6522 - val_loss: 1.0590 - learning_rate: 1.0000e-04\n",
      "Epoch 2/20\n",
      "\u001b[1m625/625\u001b[0m \u001b[32m━━━━━━━━━━━━━━━━━━━━\u001b[0m\u001b[37m\u001b[0m \u001b[1m147s\u001b[0m 234ms/step - accuracy: 0.7397 - loss: 0.7428 - val_accuracy: 0.6889 - val_loss: 1.0057 - learning_rate: 1.0000e-04\n",
      "Epoch 3/20\n",
      "\u001b[1m625/625\u001b[0m \u001b[32m━━━━━━━━━━━━━━━━━━━━\u001b[0m\u001b[37m\u001b[0m \u001b[1m146s\u001b[0m 233ms/step - accuracy: 0.8053 - loss: 0.5502 - val_accuracy: 0.6976 - val_loss: 0.9954 - learning_rate: 1.0000e-04\n",
      "Epoch 4/20\n",
      "\u001b[1m625/625\u001b[0m \u001b[32m━━━━━━━━━━━━━━━━━━━━\u001b[0m\u001b[37m\u001b[0m \u001b[1m148s\u001b[0m 237ms/step - accuracy: 0.8542 - loss: 0.4197 - val_accuracy: 0.7106 - val_loss: 1.0537 - learning_rate: 1.0000e-04\n",
      "Epoch 5/20\n",
      "\u001b[1m625/625\u001b[0m \u001b[32m━━━━━━━━━━━━━━━━━━━━\u001b[0m\u001b[37m\u001b[0m \u001b[1m149s\u001b[0m 238ms/step - accuracy: 0.8857 - loss: 0.3250 - val_accuracy: 0.7139 - val_loss: 1.0812 - learning_rate: 1.0000e-04\n",
      "Epoch 6/20\n",
      "\u001b[1m625/625\u001b[0m \u001b[32m━━━━━━━━━━━━━━━━━━━━\u001b[0m\u001b[37m\u001b[0m \u001b[1m147s\u001b[0m 236ms/step - accuracy: 0.9050 - loss: 0.2684 - val_accuracy: 0.7162 - val_loss: 1.1373 - learning_rate: 1.0000e-04\n",
      "Epoch 7/20\n",
      "\u001b[1m625/625\u001b[0m \u001b[32m━━━━━━━━━━━━━━━━━━━━\u001b[0m\u001b[37m\u001b[0m \u001b[1m147s\u001b[0m 235ms/step - accuracy: 0.9237 - loss: 0.2172 - val_accuracy: 0.7201 - val_loss: 1.2201 - learning_rate: 1.0000e-04\n",
      "Epoch 8/20\n",
      "\u001b[1m625/625\u001b[0m \u001b[32m━━━━━━━━━━━━━━━━━━━━\u001b[0m\u001b[37m\u001b[0m \u001b[1m146s\u001b[0m 233ms/step - accuracy: 0.9348 - loss: 0.1815 - val_accuracy: 0.7232 - val_loss: 1.2542 - learning_rate: 1.0000e-04\n",
      "Epoch 9/20\n",
      "\u001b[1m625/625\u001b[0m \u001b[32m━━━━━━━━━━━━━━━━━━━━\u001b[0m\u001b[37m\u001b[0m \u001b[1m146s\u001b[0m 233ms/step - accuracy: 0.9532 - loss: 0.1362 - val_accuracy: 0.7297 - val_loss: 1.2699 - learning_rate: 5.0000e-05\n",
      "Epoch 10/20\n",
      "\u001b[1m625/625\u001b[0m \u001b[32m━━━━━━━━━━━━━━━━━━━━\u001b[0m\u001b[37m\u001b[0m \u001b[1m147s\u001b[0m 235ms/step - accuracy: 0.9704 - loss: 0.0900 - val_accuracy: 0.7339 - val_loss: 1.3417 - learning_rate: 5.0000e-05\n",
      "Epoch 11/20\n",
      "\u001b[1m625/625\u001b[0m \u001b[32m━━━━━━━━━━━━━━━━━━━━\u001b[0m\u001b[37m\u001b[0m \u001b[1m145s\u001b[0m 232ms/step - accuracy: 0.9749 - loss: 0.0716 - val_accuracy: 0.7330 - val_loss: 1.4227 - learning_rate: 5.0000e-05\n",
      "Epoch 12/20\n",
      "\u001b[1m625/625\u001b[0m \u001b[32m━━━━━━━━━━━━━━━━━━━━\u001b[0m\u001b[37m\u001b[0m \u001b[1m145s\u001b[0m 232ms/step - accuracy: 0.9788 - loss: 0.0660 - val_accuracy: 0.7290 - val_loss: 1.4700 - learning_rate: 5.0000e-05\n",
      "Epoch 13/20\n",
      "\u001b[1m625/625\u001b[0m \u001b[32m━━━━━━━━━━━━━━━━━━━━\u001b[0m\u001b[37m\u001b[0m \u001b[1m146s\u001b[0m 233ms/step - accuracy: 0.9808 - loss: 0.0586 - val_accuracy: 0.7313 - val_loss: 1.5192 - learning_rate: 5.0000e-05\n",
      "Epoch 14/20\n",
      "\u001b[1m625/625\u001b[0m \u001b[32m━━━━━━━━━━━━━━━━━━━━\u001b[0m\u001b[37m\u001b[0m \u001b[1m146s\u001b[0m 234ms/step - accuracy: 0.9845 - loss: 0.0469 - val_accuracy: 0.7359 - val_loss: 1.4968 - learning_rate: 2.5000e-05\n",
      "Epoch 15/20\n",
      "\u001b[1m625/625\u001b[0m \u001b[32m━━━━━━━━━━━━━━━━━━━━\u001b[0m\u001b[37m\u001b[0m \u001b[1m147s\u001b[0m 235ms/step - accuracy: 0.9876 - loss: 0.0381 - val_accuracy: 0.7352 - val_loss: 1.5504 - learning_rate: 2.5000e-05\n",
      "Epoch 16/20\n",
      "\u001b[1m625/625\u001b[0m \u001b[32m━━━━━━━━━━━━━━━━━━━━\u001b[0m\u001b[37m\u001b[0m \u001b[1m146s\u001b[0m 234ms/step - accuracy: 0.9901 - loss: 0.0313 - val_accuracy: 0.7366 - val_loss: 1.6095 - learning_rate: 2.5000e-05\n",
      "Epoch 17/20\n",
      "\u001b[1m625/625\u001b[0m \u001b[32m━━━━━━━━━━━━━━━━━━━━\u001b[0m\u001b[37m\u001b[0m \u001b[1m147s\u001b[0m 235ms/step - accuracy: 0.9906 - loss: 0.0294 - val_accuracy: 0.7399 - val_loss: 1.6143 - learning_rate: 2.5000e-05\n",
      "Epoch 18/20\n",
      "\u001b[1m625/625\u001b[0m \u001b[32m━━━━━━━━━━━━━━━━━━━━\u001b[0m\u001b[37m\u001b[0m \u001b[1m145s\u001b[0m 232ms/step - accuracy: 0.9904 - loss: 0.0275 - val_accuracy: 0.7342 - val_loss: 1.6574 - learning_rate: 2.5000e-05\n",
      "Epoch 19/20\n",
      "\u001b[1m625/625\u001b[0m \u001b[32m━━━━━━━━━━━━━━━━━━━━\u001b[0m\u001b[37m\u001b[0m \u001b[1m146s\u001b[0m 234ms/step - accuracy: 0.9927 - loss: 0.0227 - val_accuracy: 0.7360 - val_loss: 1.6454 - learning_rate: 1.2500e-05\n",
      "Epoch 20/20\n",
      "\u001b[1m625/625\u001b[0m \u001b[32m━━━━━━━━━━━━━━━━━━━━\u001b[0m\u001b[37m\u001b[0m \u001b[1m146s\u001b[0m 233ms/step - accuracy: 0.9926 - loss: 0.0217 - val_accuracy: 0.7406 - val_loss: 1.6614 - learning_rate: 1.2500e-05\n"
     ]
    }
   ],
   "source": [
    "base_model.trainable = True\n",
    "for layer in base_model.layers[:-50]:\n",
    "    layer.trainable = False\n",
    "\n",
    "model.compile(\n",
    "    optimizer=Adam(learning_rate=0.0001),\n",
    "    loss='categorical_crossentropy',\n",
    "    metrics=['accuracy']\n",
    ")\n",
    "\n",
    "history_fine = model.fit(\n",
    "    X_train, Y_train,\n",
    "    validation_data=(X_val, Y_val),\n",
    "    epochs=20,\n",
    "    batch_size=64,\n",
    "    callbacks=[early_stopping, reduce_lr],\n",
    "    verbose=1\n",
    ")\n"
   ]
  },
  {
   "cell_type": "code",
   "execution_count": null,
   "metadata": {},
   "outputs": [
    {
     "name": "stdout",
     "output_type": "stream",
     "text": [
      "313/313 - 31s - 98ms/step - accuracy: 0.7327 - loss: 1.6995\n",
      "Test Loss: 1.6995\n",
      "Test Accuracy: 73.27%\n"
     ]
    }
   ],
   "source": [
    "test_loss, test_accuracy = model.evaluate(X_test, Y_test, verbose=2)\n",
    "print(f\"Test Loss: {test_loss:.4f}\")\n",
    "print(f\"Test Accuracy: {test_accuracy * 100:.2f}%\")\n"
   ]
  }
 ],
 "metadata": {
  "kernelspec": {
   "display_name": ".ml",
   "language": "python",
   "name": "python3"
  },
  "language_info": {
   "codemirror_mode": {
    "name": "ipython",
    "version": 3
   },
   "file_extension": ".py",
   "mimetype": "text/x-python",
   "name": "python",
   "nbconvert_exporter": "python",
   "pygments_lexer": "ipython3",
   "version": "3.10.12"
  }
 },
 "nbformat": 4,
 "nbformat_minor": 2
}
